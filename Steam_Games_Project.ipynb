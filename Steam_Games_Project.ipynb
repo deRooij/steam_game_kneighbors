{
 "cells": [
  {
   "cell_type": "markdown",
   "metadata": {},
   "source": [
    "# K-Nearest Neighbors Classificatie"
   ]
  },
  {
   "cell_type": "markdown",
   "metadata": {},
   "source": [
    "K-Nearest Neighbors (KNN) is een classificatie algoritme. <br>\n",
    "Het idee van dit algoritme is dat datapunten met vergelijkbare attributen in de zelfde categorieen zijn in te delen."
   ]
  },
  {
   "cell_type": "markdown",
   "metadata": {},
   "source": [
    "![title](Img/nearest_neighbor.gif)"
   ]
  },
  {
   "cell_type": "code",
   "execution_count": 231,
   "metadata": {},
   "outputs": [],
   "source": [
    "#Importeren van pyton libraries voor dit document\n",
    "import pandas as pd\n",
    "import numpy as np\n",
    "from matplotlib import pyplot as plt"
   ]
  },
  {
   "cell_type": "markdown",
   "metadata": {},
   "source": [
    "<br>\n",
    "<br>\n",
    "<br>"
   ]
  },
  {
   "cell_type": "markdown",
   "metadata": {},
   "source": [
    "## Afstand tussen twee punten berekenen - 2D"
   ]
  },
  {
   "cell_type": "markdown",
   "metadata": {},
   "source": [
    "![title](Img/distance.png)"
   ]
  },
  {
   "cell_type": "code",
   "execution_count": 232,
   "metadata": {},
   "outputs": [],
   "source": [
    "#[prijs, jaar, maand, rating, lijftijd, is_multiplayer]\n",
    "Counter_Strike_Source = [19.99, 2004, 11, 88, 0, 1];\n",
    "Batman_Arkham_Asylum = [19.99, 2010, 3, 91, 0, 0];\n",
    "Prototype_2 = [39.99, 2012, 7, 76, 17, 0];"
   ]
  },
  {
   "cell_type": "code",
   "execution_count": 233,
   "metadata": {},
   "outputs": [],
   "source": [
    "#Afstand in twee dimenties:\n",
    "def distance(game1, game2):\n",
    "    return ((game1[0] - game2[0])**2 + (game1[1] - game2[1])**2)**0.5"
   ]
  },
  {
   "cell_type": "code",
   "execution_count": 234,
   "metadata": {
    "scrolled": true
   },
   "outputs": [
    {
     "name": "stdout",
     "output_type": "stream",
     "text": [
      "6.0\n",
      "21.54065922853802\n"
     ]
    }
   ],
   "source": [
    "print(distance(Counter_Strike_Source, Batman_Arkham_Asylum))\n",
    "print(distance(Counter_Strike_Source, Prototype_2))"
   ]
  },
  {
   "cell_type": "markdown",
   "metadata": {},
   "source": [
    "<br>\n",
    "<br>\n",
    "<br>"
   ]
  },
  {
   "cell_type": "markdown",
   "metadata": {},
   "source": [
    "## Afstand tussen meerdere punten - 3D+"
   ]
  },
  {
   "cell_type": "markdown",
   "metadata": {},
   "source": [
    "Games vergelijken op basis van prijs en jaar van release is zeer gelimiteerd. Er zijn nog veel meer interessante stukken data die we mee kunnen nemen in de vergelijking, laten we er nog een aantal toevoegen en kijken wat er gebeurd.\n",
    "\n",
    "We moeten nu de data gaan vergelijken in meerdere dimenties:"
   ]
  },
  {
   "cell_type": "markdown",
   "metadata": {},
   "source": [
    "![title](Img/points_3D.png)"
   ]
  },
  {
   "cell_type": "markdown",
   "metadata": {},
   "source": [
    "![title](Img/distanc3d.png)"
   ]
  },
  {
   "cell_type": "code",
   "execution_count": 235,
   "metadata": {},
   "outputs": [],
   "source": [
    "#Afstand in meerdere dimenties:\n",
    "def distance(game1, game2):\n",
    "    distance = 0\n",
    "    for i in range(len(game1)):\n",
    "        distance += ((game1[i] - game2[i])**2)\n",
    "        squared_distance = distance ** 0.5\n",
    "    return squared_distance"
   ]
  },
  {
   "cell_type": "code",
   "execution_count": 236,
   "metadata": {},
   "outputs": [
    {
     "name": "stdout",
     "output_type": "stream",
     "text": [
      "10.488088481701515\n",
      "30.23243291566195\n"
     ]
    }
   ],
   "source": [
    "print(distance(Counter_Strike_Source, Batman_Arkham_Asylum))\n",
    "print(distance(Counter_Strike_Source, Prototype_2))"
   ]
  },
  {
   "cell_type": "markdown",
   "metadata": {},
   "source": [
    "<br>\n",
    "<br>\n",
    "<br>"
   ]
  },
  {
   "cell_type": "markdown",
   "metadata": {},
   "source": [
    "## Data met verschillende schalen: Normaliseren"
   ]
  },
  {
   "cell_type": "code",
   "execution_count": 237,
   "metadata": {},
   "outputs": [],
   "source": [
    "#De dataset uit een .csv halen\n",
    "df = pd.read_csv(\"steam_games.csv\")"
   ]
  },
  {
   "cell_type": "code",
   "execution_count": 238,
   "metadata": {},
   "outputs": [],
   "source": [
    "#De jaren van release en de prijzen uit de dataset isoleren\n",
    "release_dates = df['release_year']\n",
    "game_prices = df['price']"
   ]
  },
  {
   "cell_type": "code",
   "execution_count": 239,
   "metadata": {},
   "outputs": [
    {
     "name": "stdout",
     "output_type": "stream",
     "text": [
      "Games kwamen uit tussen: 2016 en 1970\n"
     ]
    }
   ],
   "source": [
    "print('Games kwamen uit tussen: ' + str(release_dates.max()) + ' en ' + str(release_dates.min()))"
   ]
  },
  {
   "cell_type": "code",
   "execution_count": 240,
   "metadata": {},
   "outputs": [
    {
     "name": "stdout",
     "output_type": "stream",
     "text": [
      "Prijzen liggen tussen: €99.99 en €0.0\n"
     ]
    }
   ],
   "source": [
    "print('Prijzen liggen tussen: €' + str(game_prices.max()) + ' en €' + str(game_prices.min()))"
   ]
  },
  {
   "cell_type": "code",
   "execution_count": 241,
   "metadata": {},
   "outputs": [
    {
     "data": {
      "image/png": "[encoded data removed]",
      "text/plain": [
       "<Figure size 432x288 with 1 Axes>"
      ]
     },
     "metadata": {
      "needs_background": "light"
     },
     "output_type": "display_data"
    }
   ],
   "source": [
    "#De scatterplot van jaar en prijzen\n",
    "plt.scatter(release_dates, game_prices, color = 'g', alpha=0.6 )\n",
    "plt.xlabel('year')\n",
    "plt.ylabel('price')\n",
    "plt.show()"
   ]
  },
  {
   "cell_type": "code",
   "execution_count": 242,
   "metadata": {},
   "outputs": [],
   "source": [
    "def min_max_normalize(lijst):\n",
    "    minimum = min(lijst)\n",
    "    maximum = max(lijst)\n",
    "    normalized = []\n",
    "    for i in range(len(lijst)):\n",
    "        normalized.append((lijst[i]-minimum)/(maximum-minimum))\n",
    "    return normalized"
   ]
  },
  {
   "cell_type": "code",
   "execution_count": 243,
   "metadata": {},
   "outputs": [
    {
     "data": {
      "image/png": "[encoded data removed]",
      "text/plain": [
       "<Figure size 432x288 with 1 Axes>"
      ]
     },
     "metadata": {
      "needs_background": "light"
     },
     "output_type": "display_data"
    }
   ],
   "source": [
    "#De scatterplot van jaar en prijzen genormaliseerd\n",
    "plt.scatter(min_max_normalize(release_dates), min_max_normalize(game_prices), color = 'g', alpha=0.6 )\n",
    "plt.xlabel('year')\n",
    "plt.ylabel('price')\n",
    "plt.show()"
   ]
  },
  {
   "cell_type": "markdown",
   "metadata": {},
   "source": [
    "<br>\n",
    "<br>\n",
    "<br>"
   ]
  },
  {
   "cell_type": "markdown",
   "metadata": {},
   "source": [
    "## Dataset normaliseren"
   ]
  },
  {
   "cell_type": "code",
   "execution_count": 244,
   "metadata": {},
   "outputs": [
    {
     "data": {
      "text/html": [
       "<div>\n",
       "<style scoped>\n",
       "    .dataframe tbody tr th:only-of-type {\n",
       "        vertical-align: middle;\n",
       "    }\n",
       "\n",
       "    .dataframe tbody tr th {\n",
       "        vertical-align: top;\n",
       "    }\n",
       "\n",
       "    .dataframe thead th {\n",
       "        text-align: right;\n",
       "    }\n",
       "</style>\n",
       "<table border=\"1\" class=\"dataframe\">\n",
       "  <thead>\n",
       "    <tr style=\"text-align: right;\">\n",
       "      <th></th>\n",
       "      <th>title</th>\n",
       "      <th>price</th>\n",
       "      <th>release_year</th>\n",
       "      <th>release_month</th>\n",
       "      <th>rating</th>\n",
       "      <th>required_age</th>\n",
       "      <th>is_multiplayer</th>\n",
       "    </tr>\n",
       "  </thead>\n",
       "  <tbody>\n",
       "    <tr>\n",
       "      <th>0</th>\n",
       "      <td>Medieval II: Total War™ Kingdoms</td>\n",
       "      <td>11.99</td>\n",
       "      <td>2007</td>\n",
       "      <td>11</td>\n",
       "      <td>85</td>\n",
       "      <td>0</td>\n",
       "      <td>1</td>\n",
       "    </tr>\n",
       "    <tr>\n",
       "      <th>1</th>\n",
       "      <td>Sid Meier's Civilization®: Beyond Earth™</td>\n",
       "      <td>39.99</td>\n",
       "      <td>2014</td>\n",
       "      <td>10</td>\n",
       "      <td>81</td>\n",
       "      <td>0</td>\n",
       "      <td>1</td>\n",
       "    </tr>\n",
       "    <tr>\n",
       "      <th>2</th>\n",
       "      <td>Majesty 2</td>\n",
       "      <td>9.99</td>\n",
       "      <td>2009</td>\n",
       "      <td>9</td>\n",
       "      <td>72</td>\n",
       "      <td>0</td>\n",
       "      <td>0</td>\n",
       "    </tr>\n",
       "    <tr>\n",
       "      <th>3</th>\n",
       "      <td>Wizorb</td>\n",
       "      <td>2.99</td>\n",
       "      <td>2012</td>\n",
       "      <td>3</td>\n",
       "      <td>81</td>\n",
       "      <td>0</td>\n",
       "      <td>0</td>\n",
       "    </tr>\n",
       "    <tr>\n",
       "      <th>4</th>\n",
       "      <td>Air Conflicts: Vietnam</td>\n",
       "      <td>17.99</td>\n",
       "      <td>2013</td>\n",
       "      <td>10</td>\n",
       "      <td>43</td>\n",
       "      <td>0</td>\n",
       "      <td>1</td>\n",
       "    </tr>\n",
       "  </tbody>\n",
       "</table>\n",
       "</div>"
      ],
      "text/plain": [
       "                                      title  price  release_year  \\\n",
       "0          Medieval II: Total War™ Kingdoms  11.99          2007   \n",
       "1  Sid Meier's Civilization®: Beyond Earth™  39.99          2014   \n",
       "2                                 Majesty 2   9.99          2009   \n",
       "3                                    Wizorb   2.99          2012   \n",
       "4                    Air Conflicts: Vietnam  17.99          2013   \n",
       "\n",
       "   release_month  rating  required_age  is_multiplayer  \n",
       "0             11      85             0               1  \n",
       "1             10      81             0               1  \n",
       "2              9      72             0               0  \n",
       "3              3      81             0               0  \n",
       "4             10      43             0               1  "
      ]
     },
     "execution_count": 244,
     "metadata": {},
     "output_type": "execute_result"
    }
   ],
   "source": [
    "df.head()"
   ]
  },
  {
   "cell_type": "code",
   "execution_count": 245,
   "metadata": {},
   "outputs": [
    {
     "name": "stdout",
     "output_type": "stream",
     "text": [
      "Er zitten 2102 games in onze dataset\n"
     ]
    }
   ],
   "source": [
    "print( 'Er zitten ' + str( (len(df) ) ) + ' games in onze dataset')"
   ]
  },
  {
   "cell_type": "code",
   "execution_count": 246,
   "metadata": {},
   "outputs": [],
   "source": [
    "#Alle data normaliseren   \n",
    "normalized_prices = min_max_normalize(df['price'])\n",
    "normalized_release_years = min_max_normalize(df['release_year'])\n",
    "normalized_release_months = min_max_normalize(df['release_month'])\n",
    "normalized_required_age = min_max_normalize(df['required_age'])"
   ]
  },
  {
   "cell_type": "code",
   "execution_count": 247,
   "metadata": {},
   "outputs": [
    {
     "data": {
      "image/png": "[encoded data removed]",
      "text/plain": [
       "<Figure size 432x288 with 1 Axes>"
      ]
     },
     "metadata": {
      "needs_background": "light"
     },
     "output_type": "display_data"
    }
   ],
   "source": [
    "plt.scatter(df['release_year'], df['required_age'], color = 'r', alpha=0.6 )\n",
    "plt.xlabel('year')\n",
    "plt.ylabel('age')\n",
    "plt.show()"
   ]
  },
  {
   "cell_type": "code",
   "execution_count": 278,
   "metadata": {},
   "outputs": [],
   "source": [
    "game_dataset = {}\n",
    "\n",
    "for index, row in df.iterrows():\n",
    "    game = [normalized_prices[index], \n",
    "            normalized_release_years[index], \n",
    "            normalized_release_months[index], \n",
    "            normalized_required_age[index], \n",
    "            df['is_multiplayer'][index]]\n",
    "    \n",
    "    game_dataset[df['title'][index]] = game"
   ]
  },
  {
   "cell_type": "code",
   "execution_count": 249,
   "metadata": {},
   "outputs": [],
   "source": [
    "def classify(unknown, dataset, k):\n",
    "    distances = []\n",
    "    for title in dataset:\n",
    "        distance_to_point = distance(dataset[title], unknown)\n",
    "        distances.append([distance_to_point, title])\n",
    "    distances.sort()\n",
    "    neighbors = distances[0:5]\n",
    "    return neighbors"
   ]
  },
  {
   "cell_type": "markdown",
   "metadata": {},
   "source": [
    "<br>\n",
    "<ln>"
   ]
  },
  {
   "cell_type": "code",
   "execution_count": 329,
   "metadata": {},
   "outputs": [
    {
     "name": "stdout",
     "output_type": "stream",
     "text": [
      "Call of Duty®: Black Ops II, with distance of: 0.5120805813752437\n",
      "Call of Duty®: Advanced Warfare - Gold Edition, with distance of: 0.5233992249370529\n",
      "Serious Sam Classic: The Second Encounter, with distance of: 0.5478399179222398\n",
      "Serious Sam 3: BFE, with distance of: 0.5569895065243402\n",
      "Total War™: ROME II - Emperor Edition, with distance of: 0.5600284091415706\n"
     ]
    }
   ],
   "source": [
    "#Find the 5 nearest neighbors to the unkown game we input\n",
    "# price, year, month, age, multiplayer\n",
    "unknown = [.8, .8, .8, .5, 1]\n",
    "nearest_neighbors = classify(unknown, game_dataset, 5)\n",
    "\n",
    "for i in range(len(nearest_neighbors)):\n",
    "    print(str( nearest_neighbors[i][1] ) + ', with distance of: ' + str(nearest_neighbors[i][0]))"
   ]
  },
  {
   "cell_type": "markdown",
   "metadata": {},
   "source": [
    "<br>\n",
    "<br>\n",
    "<br>"
   ]
  },
  {
   "cell_type": "markdown",
   "metadata": {},
   "source": [
    "## Rating voorspeller"
   ]
  },
  {
   "cell_type": "code",
   "execution_count": 330,
   "metadata": {},
   "outputs": [],
   "source": [
    "#We maken een dict met alleen de namen van de game en de rating\n",
    "labels = {}\n",
    "for index, row in df.iterrows():\n",
    "    labels[df['title'][index]] = df['rating'][index]"
   ]
  },
  {
   "cell_type": "code",
   "execution_count": 331,
   "metadata": {},
   "outputs": [],
   "source": [
    "#Een functie die voor ons de gemiddelde rating van alle neighbors berekend\n",
    "def ratingcalculator(neighbors, labels):\n",
    "    rating = 0\n",
    "    for i in range(len(neighbors)):\n",
    "        title = neighbors[i][1]\n",
    "        rating += labels[title]\n",
    "    return rating / len(neighbors)"
   ]
  },
  {
   "cell_type": "code",
   "execution_count": 328,
   "metadata": {},
   "outputs": [
    {
     "name": "stdout",
     "output_type": "stream",
     "text": [
      "De rating voor onze game: 81.0\n"
     ]
    }
   ],
   "source": [
    "print('De rating voor onze game: ' + str(ratingcalculator(nearest_neighbors, labels)))"
   ]
  },
  {
   "cell_type": "markdown",
   "metadata": {},
   "source": [
    "<br>\n",
    "<br>\n",
    "<br>"
   ]
  },
  {
   "cell_type": "markdown",
   "metadata": {},
   "source": [
    "## Accuraatheid van de dataset"
   ]
  },
  {
   "cell_type": "code",
   "execution_count": 254,
   "metadata": {},
   "outputs": [],
   "source": [
    "from sklearn.model_selection import train_test_split"
   ]
  },
  {
   "cell_type": "code",
   "execution_count": 320,
   "metadata": {},
   "outputs": [],
   "source": [
    "training_set, validation_set = train_test_split(df, test_size=0.2)"
   ]
  },
  {
   "cell_type": "code",
   "execution_count": 321,
   "metadata": {},
   "outputs": [],
   "source": [
    "training_data = {}\n",
    "validation_data = {}\n",
    "training_labels = {}\n",
    "validation_labels = {}\n",
    "\n",
    "for index, row in training_set.iterrows():\n",
    "    game = [normalized_prices[index], \n",
    "            normalized_release_years[index], \n",
    "            normalized_release_months[index], \n",
    "            normalized_required_age[index], \n",
    "            df['is_multiplayer'][index]]\n",
    "    \n",
    "    training_data[df['title'][index]] = game\n",
    "    if(df['rating'][index] > 69):\n",
    "        training_labels[df['title'][index]] = 1\n",
    "    else:\n",
    "        training_labels[df['title'][index]] = 0\n",
    "\n",
    "for index, row in validation_set.iterrows():\n",
    "    game = [normalized_prices[index], \n",
    "            normalized_release_years[index], \n",
    "            normalized_release_months[index], \n",
    "            normalized_required_age[index], \n",
    "            df['is_multiplayer'][index]]\n",
    "\n",
    "    validation_data[df['title'][index]] = game\n",
    "    if(df['rating'][index] > 69):\n",
    "        validation_labels[df['title'][index]] = 1\n",
    "    else:\n",
    "        validation_labels[df['title'][index]] = 0"
   ]
  },
  {
   "cell_type": "code",
   "execution_count": 322,
   "metadata": {},
   "outputs": [],
   "source": [
    "def find_validation_accuracy(training, training_labels, validation, validation_labels, k):\n",
    "    num_correct = 0.0\n",
    "    for title in validation:\n",
    "        guess = classify_rating(validation[title], training, training_labels, k)\n",
    "        if(guess == validation_labels[title]):\n",
    "            num_correct += 1\n",
    "    return num_correct / len(validation)"
   ]
  },
  {
   "cell_type": "code",
   "execution_count": 323,
   "metadata": {},
   "outputs": [],
   "source": [
    "def classify_rating(unknown, dataset, labels, k):\n",
    "    distances = []\n",
    "    for title in dataset:\n",
    "        movie = dataset[title]\n",
    "        distance_to_point = distance(movie, unknown)\n",
    "        distances.append([distance_to_point, title])\n",
    "    distances.sort()\n",
    "    neighbors = distances[0:k]\n",
    "    num_good = 0\n",
    "    num_bad = 0\n",
    "    for neighbor in neighbors:\n",
    "        title = neighbor[1]\n",
    "        if labels[title] == 0:\n",
    "            num_bad += 1\n",
    "        elif labels[title] == 1:\n",
    "            num_good += 1\n",
    "        if num_good > num_bad:\n",
    "            return 1\n",
    "        else:\n",
    "            return 0"
   ]
  },
  {
   "cell_type": "code",
   "execution_count": 326,
   "metadata": {},
   "outputs": [
    {
     "name": "stdout",
     "output_type": "stream",
     "text": [
      "0.5544794188861986\n"
     ]
    }
   ],
   "source": [
    "print(find_validation_accuracy(training_data, training_labels, validation_data, validation_labels, 3))"
   ]
  }
 ],
 "metadata": {
  "kernelspec": {
   "display_name": "Python 3",
   "language": "python",
   "name": "python3"
  },
  "language_info": {
   "codemirror_mode": {
    "name": "ipython",
    "version": 3
   },
   "file_extension": ".py",
   "mimetype": "text/x-python",
   "name": "python",
   "nbconvert_exporter": "python",
   "pygments_lexer": "ipython3",
   "version": "3.7.1"
  }
 },
 "nbformat": 4,
 "nbformat_minor": 2
}
